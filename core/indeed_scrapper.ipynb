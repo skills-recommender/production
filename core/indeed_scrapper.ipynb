{
 "cells": [
  {
   "cell_type": "markdown",
   "id": "35cbcdaa",
   "metadata": {},
   "source": []
  },
  {
   "cell_type": "code",
   "execution_count": 6,
   "id": "5304211b",
   "metadata": {},
   "outputs": [],
   "source": [
    "import requests\n",
    "from bs4 import BeautifulSoup\n",
    "import pandas as pd\n",
    "from selenium import webdriver\n",
    "import time\n",
    "from selenium.webdriver.common.keys import Keys\n",
    "\n",
    "HEADERS ={\"User-Agent\":\"Mozilla/5.0 (Windows NT 10.0; Win64; x64; rv:66.0) Gecko/20100101 Firefox/66.0\", \"Accept-Encoding\":\"gzip, deflate\", \"Accept\":\"text/html,application/xhtml+xml,application/xml;q=0.9,*/*;q=0.8\", \"DNT\":\"1\",\"Connection\":\"close\", \"Upgrade-Insecure-Requests\":\"1\"}\n"
   ]
  },
  {
   "cell_type": "code",
   "execution_count": 7,
   "id": "99568113",
   "metadata": {},
   "outputs": [],
   "source": [
    "msedge_path = \"C:\\WebDriver\\msedgedriver.exe\""
   ]
  },
  {
   "cell_type": "code",
   "execution_count": 10,
   "id": "32ad888c",
   "metadata": {
    "scrolled": true
   },
   "outputs": [
    {
     "name": "stdout",
     "output_type": "stream",
     "text": [
      "https://in.indeed.com/jobs?q=Hardware%20ASIC%20Design&l=India&from=searchOnHP\n"
     ]
    }
   ],
   "source": [
    "def get_current_url(url, job_title, location):\n",
    "    #driver = webdriver.Chrome()\n",
    "    driver = webdriver.Edge(msedge_path)\n",
    "    driver.get(url)\n",
    "    time.sleep(3)\n",
    "    driver.find_element_by_xpath('//*[@id=\"text-input-what\"]').send_keys(job_title)\n",
    "    time.sleep(3)\n",
    "    driver.find_element_by_xpath('//*[@id=\"text-input-where\"]').send_keys(location)\n",
    "    time.sleep(3)\n",
    "    \n",
    "    try:\n",
    "        #driver.find_element_by_xpath('//*[@id=\"jobsearch\"]/button').click()\n",
    "        driver.find_element_by_xpath('//*[@type=\"submit\"]').submit()   \n",
    "    except:\n",
    "        driver.find_element_by_xpath('//*[@id=\"whatWhereFormId\"]/div[3]/button').click()\n",
    "    \n",
    "    current_url = driver.current_url\n",
    "\n",
    "    return current_url \n",
    "\n"
   ]
  },
  {
   "cell_type": "code",
   "execution_count": 11,
   "id": "0229e49c",
   "metadata": {
    "scrolled": true
   },
   "outputs": [],
   "source": [
    "def scrape_job_details_direct(url):\n",
    "    driver = webdriver.Edge(msedge_path)\n",
    "    driver.get(url)\n",
    "    time.sleep(3)\n",
    "\n",
    "    jobs_list = []\n",
    "    content = BeautifulSoup(driver.page_source, 'html5lib')\n",
    "    print(content.prettify())\n",
    "    \n",
    "    \n",
    "    #for post in content.select('.job_seen_beacon'):\n",
    "    try:\n",
    "        data = {\n",
    "            \"job_title\":content.find('h1',{'class':'icl-u-xs-mb--xs icl-u-xs-mt--none jobsearch-JobInfoHeader-title'}).get_text().strip(),\n",
    "            \"job_desc\":content.find('div',{'class':'jobsearch-jobDescriptionText'}).get_text().strip(),\n",
    "            \"company\":content.find('div',{'class':'css-czdse3 eu4oa1w0'}).get_text().strip()\n",
    "            \n",
    "            #\"company\":content.select('.companyName')[0].get_text().strip(),\n",
    "           # \"rating\":post.select('.ratingNumber')[0].get_text().strip(),\n",
    "           # \"location\":content.select('.jobLocation')[0].get_text().strip(),\n",
    "           # \"date\":content.select('.datePosted')[0].get_text().strip(),\n",
    "           \n",
    "        }\n",
    "    except:\n",
    "        return  \n",
    "\n",
    "    print(data)\n",
    "    jobs_list.append(data)\n",
    "    dataframe = pd.DataFrame(jobs_list)\n",
    "    return dataframe\n",
    "\n",
    "#data_f = scrape_job_details_direct('https://in.indeed.com/viewjob?jk=d2bb89d763adeac8&fccid=fffc8238af387b00&vjs=3')"
   ]
  },
  {
   "cell_type": "code",
   "execution_count": 12,
   "id": "2c9cffa0",
   "metadata": {},
   "outputs": [],
   "source": [
    "def get_description(url):\n",
    "    driver = webdriver.Edge(r\"msedgedriver.exe\")\n",
    "    driver.get(url)\n",
    "    time.sleep(3)\n",
    "\n",
    "    content = BeautifulSoup(driver.page_source, 'html5lib')\n",
    "    #print(content.prettify())\n",
    "    driver.close()\n",
    "    \n",
    "    jd = None\n",
    "    try:\n",
    "        jd = content.find('div',{'class':'jobsearch-jobDescriptionText'}).get_text().strip()\n",
    "    except IndexError:\n",
    "        return jd\n",
    "    return jd\n",
    "\n",
    "#print(get_description('https://in.indeed.com/viewjob?jk=3aa72c94afbc18e3&fccid=9ab138c02aaca829&vjs=3'))"
   ]
  },
  {
   "cell_type": "code",
   "execution_count": 19,
   "id": "4dc21a33",
   "metadata": {
    "scrolled": false
   },
   "outputs": [],
   "source": [
    "def scrape_job_details(url):\n",
    "    #resp = requests.get(url) #, headers=HEADERS)\n",
    "    \n",
    "    driver = webdriver.Edge(r\"msedgedriver.exe\")\n",
    "    driver.get(url)\n",
    "    time.sleep(3)\n",
    "    \n",
    "    content = BeautifulSoup(driver.page_source, 'html5lib')\n",
    "    #print(content.prettify())\n",
    "    driver.close()\n",
    "\n",
    "    jobs_list = []\n",
    "    \n",
    "    for post in content.select('.job_seen_beacon'):\n",
    "        try:\n",
    "            links=post.find('a',{'class':'jcs-JobTitle'})['href']\n",
    "            #split on \"?\" and take later part only\n",
    "            parts = links.split(\"?\")\n",
    "            links = \"https://in.indeed.com/viewjob?\"+parts[1]\n",
    "            \n",
    "            data = {\n",
    "                    \"Job_Title\":post.select('.jobTitle')[0].get_text().strip(),\n",
    "                    \"Company_Name\":post.select('.companyName')[0].get_text().strip(),\n",
    "                    \"Location\":post.select('.companyLocation')[0].get_text().strip(),\n",
    "                    \"Job_Description\":\"\",\n",
    "                    \"link\":links \n",
    "                }\n",
    "        except:\n",
    "            continue     \n",
    "        \n",
    "        jobs_list.append(data)\n",
    "    #print(jobs_list)\n",
    "    #-----------------------------------------------------------------------------------------------    \n",
    "    ########################### Now we go through these direct links to get details ################\n",
    "    #-----------------------------------------------------------------------------------------------\n",
    "    \n",
    "    \n",
    "    for data in jobs_list:\n",
    "        new_url = data[\"link\"]\n",
    "        desc = get_description(new_url)\n",
    "        data['Job_Description'] = desc\n",
    "        \n",
    "    dataframe = pd.DataFrame(jobs_list)\n",
    "    return dataframe\n"
   ]
  },
  {
   "cell_type": "code",
   "execution_count": null,
   "id": "4dfafb8c",
   "metadata": {},
   "outputs": [],
   "source": [
    "Vertical_df = pd.read_csv('IT_Verticals.csv')\n",
    "vert_list = Vertical_df['Vertical'].tolist()\n",
    "len (vert_list)"
   ]
  },
  {
   "cell_type": "code",
   "execution_count": 21,
   "id": "5ee062bd",
   "metadata": {},
   "outputs": [],
   "source": [
    "maxId = 11\n",
    "jump=10\n",
    "\n",
    "for i in range(0,len(vert_list)):\n",
    "    current_url = get_current_url('https://in.indeed.com/',vert_list[i],\"India\")\n",
    "    url = current_url\n",
    "    jobs_dframe = scrape_job_details(url)\n",
    "    \n",
    "    for page in range(10,maxId):\n",
    "        url = current_url+\"&start=\"+str(page)\n",
    "        temp_f = scrape_job_details(url)\n",
    "\n",
    "        jobs_dframe = pd.concat([jobs_dframe, temp_f], ignore_index=True, sort=False)\n",
    "        page= page+jump\n",
    "    \n",
    "    jobs_dframe['Vertical'] = vert_list[i]\n",
    "    jobs_dframe['Skills_List'] = ''\n",
    "    jobs_dframe['Years_of_Exp'] = ''\n",
    "    \n",
    "    try:\n",
    "        ## link, date - Not used as of now.\n",
    "        jobs_dframe.drop(['link'], axis = 1, inplace=True)\n",
    "    except KeyError:\n",
    "        print(\"Key error encountered\")\n",
    "    \n",
    "    file_name = vert_list[i].replace(\" \",\"\") + '_job_profile_indeed.xlsx'\n",
    "    data_f.to_excel(file_name, index=False)"
   ]
  },
  {
   "cell_type": "code",
   "execution_count": null,
   "id": "ac0f778c",
   "metadata": {},
   "outputs": [],
   "source": []
  }
 ],
 "metadata": {
  "kernelspec": {
   "display_name": "Python 3",
   "language": "python",
   "name": "python3"
  },
  "language_info": {
   "codemirror_mode": {
    "name": "ipython",
    "version": 3
   },
   "file_extension": ".py",
   "mimetype": "text/x-python",
   "name": "python",
   "nbconvert_exporter": "python",
   "pygments_lexer": "ipython3",
   "version": "3.9.7"
  }
 },
 "nbformat": 4,
 "nbformat_minor": 5
}
