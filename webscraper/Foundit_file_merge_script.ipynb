{
 "cells": [
  {
   "cell_type": "code",
   "execution_count": 1,
   "id": "9ce81a90",
   "metadata": {},
   "outputs": [],
   "source": [
    "import pandas as pd"
   ]
  },
  {
   "cell_type": "code",
   "execution_count": 2,
   "id": "8e8fa859",
   "metadata": {},
   "outputs": [],
   "source": [
    "vert_list = [\"Web Development\",\"Networking\",\"Hardware ASIC Design\",\"Devops\",\"Cloud Computing\",\"Data Science\",\"Project Management\",\"Embedded Systems\",\n",
    "\"IT Support\",\"Information Security\"]"
   ]
  },
  {
   "cell_type": "code",
   "execution_count": 6,
   "id": "a83040de",
   "metadata": {},
   "outputs": [
    {
     "name": "stdout",
     "output_type": "stream",
     "text": [
      "My current directory is : C:\\Users\\Anand Kumar\\BITS_AI_ML\\Capstone_Project\\Python_NB\\Web_Scrapping\n"
     ]
    }
   ],
   "source": [
    "import os\n",
    "import glob\n",
    "directory_path = os.getcwd()\n",
    "print(\"My current directory is : \" + directory_path)\n",
    "os.chdir(directory_path + \"\\Foundit_Dataset_Iter_2\")\n",
    "\n",
    "#folder_name = os.path.basename(directory_path)\n",
    "#file_list = glob.glob(directory_path + \"\\Foundit_Dataset\\*.xlsx\")\n",
    "file_list = glob.glob( \"*.xlsx\")\n",
    "os.chdir(directory_path)\n"
   ]
  },
  {
   "cell_type": "code",
   "execution_count": 7,
   "id": "c68094c9",
   "metadata": {},
   "outputs": [
    {
     "name": "stdout",
     "output_type": "stream",
     "text": [
      "['CloudComputingjob_profile_exp1_5_foundit.xlsx', 'CloudComputingjob_profile_exp6_10_foundit.xlsx', 'CloudComputingjob_profile_exp_10plus_foundit.xlsx', 'DataSciencejob_profile_exp1_5_foundit.xlsx', 'DataSciencejob_profile_exp6_10_foundit.xlsx', 'DataSciencejob_profile_exp_10plus_foundit.xlsx', 'Devopsjob_profile_exp1_5_foundit.xlsx', 'Devopsjob_profile_exp6_10_foundit.xlsx', 'Devopsjob_profile_exp_10plus_foundit.xlsx', 'EmbeddedSystemsjob_profile_exp1_5_foundit.xlsx', 'EmbeddedSystemsjob_profile_exp6_10_foundit.xlsx', 'EmbeddedSystemsjob_profile_exp_10plus_foundit.xlsx', 'HardwareASICDesignjob_profile_exp1_5_foundit.xlsx', 'HardwareASICDesignjob_profile_exp6_10_foundit.xlsx', 'HardwareASICDesignjob_profile_exp_10plus_foundit.xlsx', 'InformationSecurityjob_profile_exp1_5_foundit.xlsx', 'InformationSecurityjob_profile_exp6_10_foundit.xlsx', 'InformationSecurityjob_profile_exp_10plus_foundit.xlsx', 'ITSupportjob_profile_exp1_5_foundit.xlsx', 'ITSupportjob_profile_exp6_10_foundit.xlsx', 'ITSupportjob_profile_exp_10plus_foundit.xlsx', 'Networkingjob_profile_exp1_5_foundit.xlsx', 'Networkingjob_profile_exp6_10_foundit.xlsx', 'Networkingjob_profile_exp_10plus_foundit.xlsx', 'ProjectManagementjob_profile_exp1_5_foundit.xlsx', 'ProjectManagementjob_profile_exp6_10_foundit.xlsx', 'ProjectManagementjob_profile_exp_10plus_foundit.xlsx', 'WebDevelopmentjob_profile_exp1_5_foundit.xlsx', 'WebDevelopmentjob_profile_exp6_10_foundit.xlsx', 'WebDevelopmentjob_profile_exp_10plus_foundit.xlsx']\n"
     ]
    }
   ],
   "source": [
    "print(file_list)"
   ]
  },
  {
   "cell_type": "code",
   "execution_count": 8,
   "id": "3455e54d",
   "metadata": {},
   "outputs": [
    {
     "data": {
      "text/plain": [
       "30"
      ]
     },
     "execution_count": 8,
     "metadata": {},
     "output_type": "execute_result"
    }
   ],
   "source": [
    "len(file_list)\n"
   ]
  },
  {
   "cell_type": "code",
   "execution_count": 9,
   "id": "9373b404",
   "metadata": {},
   "outputs": [],
   "source": [
    "os.chdir(directory_path + \"\\Foundit_Dataset_Iter_2\")"
   ]
  },
  {
   "cell_type": "code",
   "execution_count": 10,
   "id": "f0134ae8",
   "metadata": {},
   "outputs": [],
   "source": [
    "merged_df = pd.DataFrame()"
   ]
  },
  {
   "cell_type": "code",
   "execution_count": 11,
   "id": "009ef08f",
   "metadata": {},
   "outputs": [
    {
     "name": "stdout",
     "output_type": "stream",
     "text": [
      "Empty\n"
     ]
    }
   ],
   "source": [
    "if (merged_df.empty):\n",
    "    print (\"Empty\")\n"
   ]
  },
  {
   "cell_type": "code",
   "execution_count": 12,
   "id": "bbe6b282",
   "metadata": {},
   "outputs": [
    {
     "name": "stdout",
     "output_type": "stream",
     "text": [
      "Match Found WebDevelopmentjob_profile_exp1_5_foundit.xlsx\n",
      "Match Found WebDevelopmentjob_profile_exp6_10_foundit.xlsx\n",
      "Match Found WebDevelopmentjob_profile_exp_10plus_foundit.xlsx\n",
      "<class 'pandas.core.frame.DataFrame'>\n",
      "Int64Index: 436 entries, 0 to 105\n",
      "Data columns (total 6 columns):\n",
      " #   Column      Non-Null Count  Dtype \n",
      "---  ------      --------------  ----- \n",
      " 0   job_title   436 non-null    object\n",
      " 1   company     436 non-null    object\n",
      " 2   location    436 non-null    object\n",
      " 3   job_desc    436 non-null    object\n",
      " 4   vertical    436 non-null    object\n",
      " 5   Experience  436 non-null    object\n",
      "dtypes: object(6)\n",
      "memory usage: 23.8+ KB\n",
      "Match Found Networkingjob_profile_exp1_5_foundit.xlsx\n",
      "Match Found Networkingjob_profile_exp6_10_foundit.xlsx\n",
      "Match Found Networkingjob_profile_exp_10plus_foundit.xlsx\n",
      "<class 'pandas.core.frame.DataFrame'>\n",
      "Int64Index: 495 entries, 0 to 164\n",
      "Data columns (total 6 columns):\n",
      " #   Column      Non-Null Count  Dtype \n",
      "---  ------      --------------  ----- \n",
      " 0   job_title   495 non-null    object\n",
      " 1   company     495 non-null    object\n",
      " 2   location    495 non-null    object\n",
      " 3   job_desc    495 non-null    object\n",
      " 4   vertical    495 non-null    object\n",
      " 5   Experience  495 non-null    object\n",
      "dtypes: object(6)\n",
      "memory usage: 27.1+ KB\n",
      "Match Found HardwareASICDesignjob_profile_exp1_5_foundit.xlsx\n",
      "Match Found HardwareASICDesignjob_profile_exp6_10_foundit.xlsx\n",
      "Match Found HardwareASICDesignjob_profile_exp_10plus_foundit.xlsx\n",
      "<class 'pandas.core.frame.DataFrame'>\n",
      "Int64Index: 82 entries, 0 to 19\n",
      "Data columns (total 6 columns):\n",
      " #   Column      Non-Null Count  Dtype \n",
      "---  ------      --------------  ----- \n",
      " 0   job_title   82 non-null     object\n",
      " 1   company     82 non-null     object\n",
      " 2   location    82 non-null     object\n",
      " 3   job_desc    82 non-null     object\n",
      " 4   vertical    82 non-null     object\n",
      " 5   Experience  82 non-null     object\n",
      "dtypes: object(6)\n",
      "memory usage: 4.5+ KB\n",
      "Match Found Devopsjob_profile_exp1_5_foundit.xlsx\n",
      "Match Found Devopsjob_profile_exp6_10_foundit.xlsx\n",
      "Match Found Devopsjob_profile_exp_10plus_foundit.xlsx\n",
      "<class 'pandas.core.frame.DataFrame'>\n",
      "Int64Index: 495 entries, 0 to 164\n",
      "Data columns (total 6 columns):\n",
      " #   Column      Non-Null Count  Dtype \n",
      "---  ------      --------------  ----- \n",
      " 0   job_title   495 non-null    object\n",
      " 1   company     495 non-null    object\n",
      " 2   location    495 non-null    object\n",
      " 3   job_desc    495 non-null    object\n",
      " 4   vertical    495 non-null    object\n",
      " 5   Experience  495 non-null    object\n",
      "dtypes: object(6)\n",
      "memory usage: 27.1+ KB\n",
      "Match Found CloudComputingjob_profile_exp1_5_foundit.xlsx\n",
      "Match Found CloudComputingjob_profile_exp6_10_foundit.xlsx\n",
      "Match Found CloudComputingjob_profile_exp_10plus_foundit.xlsx\n",
      "<class 'pandas.core.frame.DataFrame'>\n",
      "Int64Index: 495 entries, 0 to 164\n",
      "Data columns (total 6 columns):\n",
      " #   Column      Non-Null Count  Dtype \n",
      "---  ------      --------------  ----- \n",
      " 0   job_title   495 non-null    object\n",
      " 1   company     495 non-null    object\n",
      " 2   location    495 non-null    object\n",
      " 3   job_desc    495 non-null    object\n",
      " 4   vertical    495 non-null    object\n",
      " 5   Experience  495 non-null    object\n",
      "dtypes: object(6)\n",
      "memory usage: 27.1+ KB\n",
      "Match Found DataSciencejob_profile_exp1_5_foundit.xlsx\n",
      "Match Found DataSciencejob_profile_exp6_10_foundit.xlsx\n",
      "Match Found DataSciencejob_profile_exp_10plus_foundit.xlsx\n",
      "<class 'pandas.core.frame.DataFrame'>\n",
      "Int64Index: 495 entries, 0 to 164\n",
      "Data columns (total 6 columns):\n",
      " #   Column      Non-Null Count  Dtype \n",
      "---  ------      --------------  ----- \n",
      " 0   job_title   495 non-null    object\n",
      " 1   company     495 non-null    object\n",
      " 2   location    495 non-null    object\n",
      " 3   job_desc    495 non-null    object\n",
      " 4   vertical    495 non-null    object\n",
      " 5   Experience  495 non-null    object\n",
      "dtypes: object(6)\n",
      "memory usage: 27.1+ KB\n",
      "Match Found ProjectManagementjob_profile_exp1_5_foundit.xlsx\n",
      "Match Found ProjectManagementjob_profile_exp6_10_foundit.xlsx\n",
      "Match Found ProjectManagementjob_profile_exp_10plus_foundit.xlsx\n",
      "<class 'pandas.core.frame.DataFrame'>\n",
      "Int64Index: 495 entries, 0 to 164\n",
      "Data columns (total 6 columns):\n",
      " #   Column      Non-Null Count  Dtype \n",
      "---  ------      --------------  ----- \n",
      " 0   job_title   495 non-null    object\n",
      " 1   company     495 non-null    object\n",
      " 2   location    495 non-null    object\n",
      " 3   job_desc    495 non-null    object\n",
      " 4   vertical    495 non-null    object\n",
      " 5   Experience  495 non-null    object\n",
      "dtypes: object(6)\n",
      "memory usage: 27.1+ KB\n",
      "Match Found EmbeddedSystemsjob_profile_exp1_5_foundit.xlsx\n",
      "Match Found EmbeddedSystemsjob_profile_exp6_10_foundit.xlsx\n",
      "Match Found EmbeddedSystemsjob_profile_exp_10plus_foundit.xlsx\n",
      "<class 'pandas.core.frame.DataFrame'>\n",
      "Int64Index: 495 entries, 0 to 164\n",
      "Data columns (total 6 columns):\n",
      " #   Column      Non-Null Count  Dtype \n",
      "---  ------      --------------  ----- \n",
      " 0   job_title   495 non-null    object\n",
      " 1   company     495 non-null    object\n",
      " 2   location    495 non-null    object\n",
      " 3   job_desc    495 non-null    object\n",
      " 4   vertical    495 non-null    object\n",
      " 5   Experience  495 non-null    object\n",
      "dtypes: object(6)\n",
      "memory usage: 27.1+ KB\n",
      "Match Found ITSupportjob_profile_exp1_5_foundit.xlsx\n",
      "Match Found ITSupportjob_profile_exp6_10_foundit.xlsx\n",
      "Match Found ITSupportjob_profile_exp_10plus_foundit.xlsx\n",
      "<class 'pandas.core.frame.DataFrame'>\n",
      "Int64Index: 423 entries, 0 to 92\n",
      "Data columns (total 6 columns):\n",
      " #   Column      Non-Null Count  Dtype \n",
      "---  ------      --------------  ----- \n",
      " 0   job_title   423 non-null    object\n",
      " 1   company     423 non-null    object\n",
      " 2   location    423 non-null    object\n",
      " 3   job_desc    423 non-null    object\n",
      " 4   vertical    423 non-null    object\n",
      " 5   Experience  423 non-null    object\n",
      "dtypes: object(6)\n",
      "memory usage: 23.1+ KB\n",
      "Match Found InformationSecurityjob_profile_exp1_5_foundit.xlsx\n",
      "Match Found InformationSecurityjob_profile_exp6_10_foundit.xlsx\n",
      "Match Found InformationSecurityjob_profile_exp_10plus_foundit.xlsx\n",
      "<class 'pandas.core.frame.DataFrame'>\n",
      "Int64Index: 495 entries, 0 to 164\n",
      "Data columns (total 6 columns):\n",
      " #   Column      Non-Null Count  Dtype \n",
      "---  ------      --------------  ----- \n",
      " 0   job_title   495 non-null    object\n",
      " 1   company     495 non-null    object\n",
      " 2   location    495 non-null    object\n",
      " 3   job_desc    495 non-null    object\n",
      " 4   vertical    495 non-null    object\n",
      " 5   Experience  495 non-null    object\n",
      "dtypes: object(6)\n",
      "memory usage: 27.1+ KB\n"
     ]
    }
   ],
   "source": [
    "for j in range (len(vert_list)):\n",
    "    \n",
    "    for i in range(len(file_list)):\n",
    "    \n",
    "        if vert_list[j].replace(\" \",\"\") in file_list[i]:\n",
    "            print(\"Match Found\", file_list[i])\n",
    "            if \"exp1_5\" in file_list[i]:\n",
    "                exprience = \"0 - 5\"\n",
    "            elif \"exp6_10\" in file_list[i]:\n",
    "                exprience = \"6 - 10\"\n",
    "            elif \"exp_10plus\" in file_list[i]:\n",
    "                exprience = \"10plus\"\n",
    "            df = pd.DataFrame(pd.read_excel(file_list[i]))\n",
    "            df['vertical'] = vert_list[j]\n",
    "            df['Experience'] = exprience\n",
    "            \n",
    "            if (merged_df.empty):\n",
    "                merged_df = df.copy()\n",
    "            else:\n",
    "                merged_df = pd.concat((merged_df, df), axis=0)\n",
    "    \n",
    "    file_name = vert_list[j].replace(\" \",\"\") + \"_merged_Foundit.xlsx\"\n",
    "    merged_df.to_excel(file_name, index=False)\n",
    "    merged_df.info()\n",
    "    merged_df = pd.DataFrame()\n",
    "\n",
    "    \n",
    "os.chdir(directory_path)"
   ]
  },
  {
   "cell_type": "code",
   "execution_count": null,
   "id": "408a2195",
   "metadata": {},
   "outputs": [],
   "source": []
  }
 ],
 "metadata": {
  "kernelspec": {
   "display_name": "Python 3 (ipykernel)",
   "language": "python",
   "name": "python3"
  },
  "language_info": {
   "codemirror_mode": {
    "name": "ipython",
    "version": 3
   },
   "file_extension": ".py",
   "mimetype": "text/x-python",
   "name": "python",
   "nbconvert_exporter": "python",
   "pygments_lexer": "ipython3",
   "version": "3.9.13"
  }
 },
 "nbformat": 4,
 "nbformat_minor": 5
}
