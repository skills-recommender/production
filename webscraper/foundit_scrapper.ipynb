{
 "cells": [
  {
   "cell_type": "code",
   "execution_count": 16,
   "id": "4697dc3e",
   "metadata": {},
   "outputs": [
    {
     "name": "stdout",
     "output_type": "stream",
     "text": [
      "Defaulting to user installation because normal site-packages is not writeable\n",
      "Requirement already satisfied: msedge-selenium-tools in c:\\users\\anand kumar\\appdata\\roaming\\python\\python39\\site-packages (3.141.4)\n",
      "Requirement already satisfied: selenium==3.141 in c:\\users\\anand kumar\\appdata\\roaming\\python\\python39\\site-packages (from msedge-selenium-tools) (3.141.0)\n",
      "Requirement already satisfied: urllib3 in c:\\programdata\\anaconda3\\lib\\site-packages (from selenium==3.141->msedge-selenium-tools) (1.26.11)\n",
      "Defaulting to user installation because normal site-packages is not writeable\n",
      "Requirement already satisfied: html5lib in c:\\users\\anand kumar\\appdata\\roaming\\python\\python39\\site-packages (1.1)\n",
      "Requirement already satisfied: six>=1.9 in c:\\programdata\\anaconda3\\lib\\site-packages (from html5lib) (1.16.0)\n",
      "Requirement already satisfied: webencodings in c:\\programdata\\anaconda3\\lib\\site-packages (from html5lib) (0.5.1)\n"
     ]
    }
   ],
   "source": [
    "!pip install msedge-selenium-tools \n"
   ]
  },
  {
   "cell_type": "code",
   "execution_count": 29,
   "id": "8a3a84a7",
   "metadata": {},
   "outputs": [
    {
     "name": "stdout",
     "output_type": "stream",
     "text": [
      "Defaulting to user installation because normal site-packages is not writeable\n",
      "Requirement already satisfied: html5lib in c:\\users\\anand kumar\\appdata\\roaming\\python\\python39\\site-packages (1.1)\n",
      "Requirement already satisfied: webencodings in c:\\programdata\\anaconda3\\lib\\site-packages (from html5lib) (0.5.1)\n",
      "Requirement already satisfied: six>=1.9 in c:\\programdata\\anaconda3\\lib\\site-packages (from html5lib) (1.16.0)\n"
     ]
    }
   ],
   "source": [
    "!pip install html5lib"
   ]
  },
  {
   "cell_type": "code",
   "execution_count": 17,
   "id": "2d308dd1",
   "metadata": {},
   "outputs": [],
   "source": [
    "import requests\n",
    "from bs4 import BeautifulSoup\n",
    "import pandas as pd\n",
    "from selenium import webdriver\n",
    "import time\n",
    "from selenium.webdriver.common.keys import Keys\n",
    "from selenium.webdriver.support import expected_conditions as EC\n"
   ]
  },
  {
   "cell_type": "code",
   "execution_count": 18,
   "id": "0835cdb9",
   "metadata": {},
   "outputs": [],
   "source": [
    "vert_list = [\"Web Development\",\"Networking\",\"Hardware ASIC Design\",\"Devops\",\"Cloud Computing\",\"Data Science\",\"Project Management\",\"Embedded Systems\",\n",
    "\"IT Support\",\"Information Security\"]\n"
   ]
  },
  {
   "cell_type": "code",
   "execution_count": 19,
   "id": "4ffd34d5",
   "metadata": {},
   "outputs": [
    {
     "name": "stdout",
     "output_type": "stream",
     "text": [
      "['Web Development', 'Networking', 'Hardware ASIC Design', 'Devops', 'Cloud Computing', 'Data Science', 'Project Management', 'Embedded Systems', 'IT Support', 'Information Security']\n"
     ]
    }
   ],
   "source": [
    "print (vert_list)"
   ]
  },
  {
   "cell_type": "code",
   "execution_count": 20,
   "id": "fe1dcbf7",
   "metadata": {},
   "outputs": [],
   "source": [
    "def get_current_url(url, job_title):\n",
    "    driver = webdriver.Edge(\"C:\\WebDriver\\msedgedriver.exe\")\n",
    "    driver.get(url)\n",
    "    time.sleep(3)\n",
    "    driver.find_element_by_xpath('//*[@id=\"SE_home_autocomplete\"]').send_keys(job_title)\n",
    "    time.sleep(3)\n",
    "    #driver.find_element_by_xpath('//*[@id=\"SE_home_autocomplete_location\"]').send_keys(location)\n",
    "    #time.sleep(2)\n",
    "    driver.find_element_by_xpath('//*[@type=\"submit\"]').submit()\n",
    "    current_url = driver.current_url\n",
    "    driver.close()\n",
    "    return current_url "
   ]
  },
  {
   "cell_type": "code",
   "execution_count": 41,
   "id": "e7968af3",
   "metadata": {},
   "outputs": [],
   "source": [
    "# Unless there is a change in URL, we can use this list to save some time during each iteration of web scraping\n",
    "\n",
    "#url_list = ['https://www.foundit.in/srp/results?query=Web%20Development', 'https://www.foundit.in/srp/results?query=Networking&searchId=eedca282-c380-4ffa-8dbd-2d7aa9017612', 'https://www.foundit.in/srp/results?query=Hardware%20ASIC%20Design', 'https://www.foundit.in/srp/results?query=Devops', 'https://www.foundit.in/srp/results?query=Cloud%20Computing', 'https://www.foundit.in/srp/results?query=Data%20Science', 'https://www.foundit.in/srp/results?query=Project%20Management', 'https://www.foundit.in/srp/results?query=Embedded%20Systems', 'https://www.foundit.in/srp/results?query=IT%20Support', 'https://www.foundit.in/srp/results?query=Information%20Security']"
   ]
  },
  {
   "cell_type": "code",
   "execution_count": 21,
   "id": "9186f77b",
   "metadata": {},
   "outputs": [
    {
     "data": {
      "text/plain": [
       "\" \\nfor i in range(len(vert_list)):\\n    current_url= get_current_url('https://www.foundit.in',vert_list[i])\\n    url_list.append(current_url)\\nprint(url_list)\\n\""
      ]
     },
     "execution_count": 21,
     "metadata": {},
     "output_type": "execute_result"
    }
   ],
   "source": [
    "url_list = []\n",
    "\n",
    "for i in range(len(vert_list)):\n",
    "    current_url= get_current_url('https://www.foundit.in',vert_list[i])\n",
    "    url_list.append(current_url)\n",
    "print(url_list)"
   ]
  },
  {
   "cell_type": "code",
   "execution_count": 22,
   "id": "d10d59ea",
   "metadata": {},
   "outputs": [],
   "source": [
    "from selenium.webdriver.support.ui import WebDriverWait\n",
    "from selenium.webdriver.common.by import By\n",
    "import time\n",
    "from msedge.selenium_tools import Edge,EdgeOptions\n",
    "from selenium.common.exceptions import ElementClickInterceptedException\n",
    "from selenium.common.exceptions import NoSuchElementException\n",
    "from selenium.common.exceptions import TimeoutException\n",
    "from selenium.common.exceptions import StaleElementReferenceException"
   ]
  },
  {
   "cell_type": "code",
   "execution_count": 24,
   "id": "a130d227",
   "metadata": {},
   "outputs": [
    {
     "name": "stdout",
     "output_type": "stream",
     "text": [
      "['Web Development', 'Networking', 'Hardware ASIC Design', 'Devops', 'Cloud Computing', 'Data Science', 'Project Management', 'Embedded Systems', 'IT Support', 'Information Security']\n"
     ]
    }
   ],
   "source": [
    "print (vert_list)"
   ]
  },
  {
   "cell_type": "code",
   "execution_count": 37,
   "id": "5ba40946",
   "metadata": {},
   "outputs": [],
   "source": [
    "TotalPC = 11\n",
    "jobs_list = [] "
   ]
  },
  {
   "cell_type": "code",
   "execution_count": 38,
   "id": "bda8f286",
   "metadata": {},
   "outputs": [],
   "source": [
    "def scrape_job_details(url, exp):\n",
    "    \n",
    "    options = EdgeOptions()\n",
    "    options.use_chromium= True;\n",
    "    options.add_argument(\"disable-infobars\");\n",
    "    options.add_argument(\"disable-popup-blocking\");\n",
    "    options.add_argument(\"disable-web-security\");\n",
    "    options.add_argument(\"inprivate\");\n",
    "    #driver = webdriver.Edge(executable_path=\"C:\\WebDriver\\msedgedriver.exe\", options=options)\n",
    "    driver = Edge(executable_path=\"C:\\WebDriver\\msedgedriver.exe\", options=options)\n",
    "    \n",
    "    driver.get(url)\n",
    "    time.sleep(3)\n",
    "\n",
    "    original_window = driver.current_window_handle\n",
    "    \n",
    "    element = WebDriverWait(driver, 15).until(EC.presence_of_element_located((By.ID, \"top-filter-section\")))\n",
    "    \n",
    "    driver.find_element_by_xpath('//ul[@class=\"filter-section\"]//child::li[2]').click()\n",
    "    time.sleep(2)\n",
    "    if (exp <=5) :\n",
    "        driver.find_element_by_xpath('//div[@class=\"filter-overlay\"]//input[@value=\"2~5\"]').click();\n",
    "        driver.find_element_by_xpath('//div[@class=\"filter-overlay\"]//input[@value=\"1~2\"]').click();\n",
    "        driver.find_element_by_xpath('//div[@class=\"filter-overlay\"]//input[@value=\"0~1\"]').click();\n",
    "        driver.find_element_by_xpath('//div[@class=\"filter-overlay\"]//button[@class=\"apply\"]').click();\n",
    "    elif (exp >5 and exp <=10):\n",
    "        driver.find_element_by_xpath('//div[@class=\"filter-overlay\"]//input[@value=\"5~7\"]').click();\n",
    "        driver.find_element_by_xpath('//div[@class=\"filter-overlay\"]//input[@value=\"7~10\"]').click();\n",
    "        driver.find_element_by_xpath('//div[@class=\"filter-overlay\"]//button[@class=\"apply\"]').click();\n",
    "    elif (exp >10):\n",
    "        driver.find_element_by_xpath('//div[@class=\"filter-overlay\"]//input[@value=\"10~15\"]').click();\n",
    "        driver.find_element_by_xpath('//div[@class=\"filter-overlay\"]//input[@value=\"15~*\"]').click();\n",
    "        driver.find_element_by_xpath('//div[@class=\"filter-overlay\"]//button[@class=\"apply\"]').click();\n",
    "\n",
    "    time.sleep(3)\n",
    "    driver.find_element_by_xpath('//ul[@class=\"filter-section\"]//child::li[8]').click()\n",
    "    time.sleep(2)\n",
    "    driver.find_element_by_xpath('//div[@class=\"filter-overlay\"]//input[@value=\"30\"]').click();\n",
    "    driver.find_element_by_xpath('//div[@class=\"filter-overlay\"]//button[@class=\"apply\"]').click();\n",
    "    time.sleep(5)\n",
    "    \n",
    "    pc = 0\n",
    "    while (pc < TotalPC):\n",
    "        # Store the list of Job cards found in the page\n",
    "        job_elems = driver.find_elements_by_xpath('//*[@class=\"srpResultCardContainer\"]')\n",
    "\n",
    "        for job in job_elems:\n",
    "            try : \n",
    "                job.click()\n",
    "            except ElementClickInterceptedException:\n",
    "                if (driver.current_window_handle != original_window) :\n",
    "                    driver.switch_to.window(original_window)\n",
    "                    time.sleep(3)\n",
    "                    job.click()\n",
    "             \n",
    "            except TimeoutException:\n",
    "                continue;\n",
    "            except StaleElementReferenceException:\n",
    "                continue;\n",
    "                    \n",
    "                \n",
    "            time.sleep(3)\n",
    "            driver.find_elements_by_xpath('//*[@class=\"dbJdSection\"]')\n",
    "            #content = BeautifulSoup(driver.page_source, 'html5lib')\n",
    "            content = BeautifulSoup(driver.page_source, 'html.parser')\n",
    "            \n",
    "          \n",
    "            for post in content.select('.dbJdSection'):\n",
    "                try:\n",
    "                    data = {\n",
    "                        \"job_title\":post.select('.jdTitle')[0].get_text().strip(),\n",
    "                        \"company\":post.select('.jdCompanyName')[0].get_text().strip(),\n",
    "                        \"location\":post.select('.details')[0].get_text().strip(),\n",
    "                        \"job_desc\":post.select('.jobDescInfo')[0].get_text(strip=True, separator=\",\").strip()  \n",
    "                    }\n",
    "                except IndexError:\n",
    "                    continue          \n",
    "            jobs_list.append(data)\n",
    "        \n",
    "        try : \n",
    "            driver.find_element_by_xpath('//div[@class=\"pagination\"]//div[@class=\"arrow arrow-right\"]').click();\n",
    "        except NoSuchElementException: \n",
    "            print(\"Last Page in Search Result\")\n",
    "            break;\n",
    "        time.sleep(4)\n",
    "        pc = pc + 1\n",
    "        print(\"Total of \", TotalPC-1, \"pages. Completed Page No :\", pc)\n",
    "            \n",
    "    driver.close()\n"
   ]
  },
  {
   "cell_type": "code",
   "execution_count": 40,
   "id": "83cad783",
   "metadata": {},
   "outputs": [
    {
     "name": "stderr",
     "output_type": "stream",
     "text": [
      "C:\\Users\\Anand Kumar\\AppData\\Local\\Temp\\ipykernel_19832\\3858966282.py:10: DeprecationWarning: Selenium Tools for Microsoft Edge is deprecated. Please upgrade to Selenium 4 which has built-in support for Microsoft Edge (Chromium): https://docs.microsoft.com/en-us/microsoft-edge/webdriver-chromium/#upgrading-from-selenium-3\n",
      "  driver = Edge(executable_path=\"C:\\WebDriver\\msedgedriver.exe\", options=options)\n"
     ]
    },
    {
     "name": "stdout",
     "output_type": "stream",
     "text": [
      "Total of  10 pages. Completed Page No : 1\n",
      "Total of  10 pages. Completed Page No : 2\n",
      "Total of  10 pages. Completed Page No : 3\n",
      "Total of  10 pages. Completed Page No : 4\n",
      "Total of  10 pages. Completed Page No : 5\n",
      "Total of  10 pages. Completed Page No : 6\n",
      "Total of  10 pages. Completed Page No : 7\n",
      "Total of  10 pages. Completed Page No : 8\n",
      "Total of  10 pages. Completed Page No : 9\n",
      "Total of  10 pages. Completed Page No : 10\n",
      "Total of  10 pages. Completed Page No : 11\n",
      "Data Science https://www.foundit.in/srp/results?query=Data%20Science Exp : 0 to 5, Time Taken:  648.7173986434937\n"
     ]
    },
    {
     "name": "stderr",
     "output_type": "stream",
     "text": [
      "C:\\Users\\Anand Kumar\\AppData\\Local\\Temp\\ipykernel_19832\\3858966282.py:10: DeprecationWarning: Selenium Tools for Microsoft Edge is deprecated. Please upgrade to Selenium 4 which has built-in support for Microsoft Edge (Chromium): https://docs.microsoft.com/en-us/microsoft-edge/webdriver-chromium/#upgrading-from-selenium-3\n",
      "  driver = Edge(executable_path=\"C:\\WebDriver\\msedgedriver.exe\", options=options)\n"
     ]
    },
    {
     "name": "stdout",
     "output_type": "stream",
     "text": [
      "Total of  10 pages. Completed Page No : 1\n",
      "Total of  10 pages. Completed Page No : 2\n",
      "Total of  10 pages. Completed Page No : 3\n",
      "Total of  10 pages. Completed Page No : 4\n",
      "Total of  10 pages. Completed Page No : 5\n",
      "Total of  10 pages. Completed Page No : 6\n",
      "Total of  10 pages. Completed Page No : 7\n",
      "Total of  10 pages. Completed Page No : 8\n",
      "Total of  10 pages. Completed Page No : 9\n",
      "Total of  10 pages. Completed Page No : 10\n",
      "Total of  10 pages. Completed Page No : 11\n",
      "Data Science Exp : 5 to 10, Time Taken:  696.9688420295715\n"
     ]
    },
    {
     "name": "stderr",
     "output_type": "stream",
     "text": [
      "C:\\Users\\Anand Kumar\\AppData\\Local\\Temp\\ipykernel_19832\\3858966282.py:10: DeprecationWarning: Selenium Tools for Microsoft Edge is deprecated. Please upgrade to Selenium 4 which has built-in support for Microsoft Edge (Chromium): https://docs.microsoft.com/en-us/microsoft-edge/webdriver-chromium/#upgrading-from-selenium-3\n",
      "  driver = Edge(executable_path=\"C:\\WebDriver\\msedgedriver.exe\", options=options)\n"
     ]
    },
    {
     "name": "stdout",
     "output_type": "stream",
     "text": [
      "Total of  10 pages. Completed Page No : 1\n",
      "Total of  10 pages. Completed Page No : 2\n",
      "Total of  10 pages. Completed Page No : 3\n",
      "Total of  10 pages. Completed Page No : 4\n",
      "Total of  10 pages. Completed Page No : 5\n",
      "Total of  10 pages. Completed Page No : 6\n",
      "Total of  10 pages. Completed Page No : 7\n",
      "Total of  10 pages. Completed Page No : 8\n",
      "Total of  10 pages. Completed Page No : 9\n",
      "Total of  10 pages. Completed Page No : 10\n",
      "Total of  10 pages. Completed Page No : 11\n",
      "Data Science Exp : 10 plus, Time Taken:  644.6827034950256\n"
     ]
    },
    {
     "name": "stderr",
     "output_type": "stream",
     "text": [
      "C:\\Users\\Anand Kumar\\AppData\\Local\\Temp\\ipykernel_19832\\3858966282.py:10: DeprecationWarning: Selenium Tools for Microsoft Edge is deprecated. Please upgrade to Selenium 4 which has built-in support for Microsoft Edge (Chromium): https://docs.microsoft.com/en-us/microsoft-edge/webdriver-chromium/#upgrading-from-selenium-3\n",
      "  driver = Edge(executable_path=\"C:\\WebDriver\\msedgedriver.exe\", options=options)\n"
     ]
    },
    {
     "name": "stdout",
     "output_type": "stream",
     "text": [
      "Total of  10 pages. Completed Page No : 1\n",
      "Total of  10 pages. Completed Page No : 2\n",
      "Total of  10 pages. Completed Page No : 3\n",
      "Total of  10 pages. Completed Page No : 4\n",
      "Total of  10 pages. Completed Page No : 5\n",
      "Total of  10 pages. Completed Page No : 6\n",
      "Total of  10 pages. Completed Page No : 7\n",
      "Total of  10 pages. Completed Page No : 8\n",
      "Total of  10 pages. Completed Page No : 9\n",
      "Total of  10 pages. Completed Page No : 10\n",
      "Total of  10 pages. Completed Page No : 11\n",
      "Project Management https://www.foundit.in/srp/results?query=Project%20Management Exp : 0 to 5, Time Taken:  685.5949573516846\n"
     ]
    },
    {
     "name": "stderr",
     "output_type": "stream",
     "text": [
      "C:\\Users\\Anand Kumar\\AppData\\Local\\Temp\\ipykernel_19832\\3858966282.py:10: DeprecationWarning: Selenium Tools for Microsoft Edge is deprecated. Please upgrade to Selenium 4 which has built-in support for Microsoft Edge (Chromium): https://docs.microsoft.com/en-us/microsoft-edge/webdriver-chromium/#upgrading-from-selenium-3\n",
      "  driver = Edge(executable_path=\"C:\\WebDriver\\msedgedriver.exe\", options=options)\n"
     ]
    },
    {
     "name": "stdout",
     "output_type": "stream",
     "text": [
      "Total of  10 pages. Completed Page No : 1\n",
      "Total of  10 pages. Completed Page No : 2\n",
      "Total of  10 pages. Completed Page No : 3\n",
      "Total of  10 pages. Completed Page No : 4\n",
      "Total of  10 pages. Completed Page No : 5\n",
      "Total of  10 pages. Completed Page No : 6\n",
      "Total of  10 pages. Completed Page No : 7\n",
      "Total of  10 pages. Completed Page No : 8\n",
      "Total of  10 pages. Completed Page No : 9\n",
      "Total of  10 pages. Completed Page No : 10\n",
      "Total of  10 pages. Completed Page No : 11\n",
      "Project Management Exp : 5 to 10, Time Taken:  663.7461493015289\n"
     ]
    },
    {
     "name": "stderr",
     "output_type": "stream",
     "text": [
      "C:\\Users\\Anand Kumar\\AppData\\Local\\Temp\\ipykernel_19832\\3858966282.py:10: DeprecationWarning: Selenium Tools for Microsoft Edge is deprecated. Please upgrade to Selenium 4 which has built-in support for Microsoft Edge (Chromium): https://docs.microsoft.com/en-us/microsoft-edge/webdriver-chromium/#upgrading-from-selenium-3\n",
      "  driver = Edge(executable_path=\"C:\\WebDriver\\msedgedriver.exe\", options=options)\n"
     ]
    },
    {
     "name": "stdout",
     "output_type": "stream",
     "text": [
      "Total of  10 pages. Completed Page No : 1\n",
      "Total of  10 pages. Completed Page No : 2\n",
      "Total of  10 pages. Completed Page No : 3\n",
      "Total of  10 pages. Completed Page No : 4\n",
      "Total of  10 pages. Completed Page No : 5\n",
      "Total of  10 pages. Completed Page No : 6\n",
      "Total of  10 pages. Completed Page No : 7\n",
      "Total of  10 pages. Completed Page No : 8\n",
      "Total of  10 pages. Completed Page No : 9\n",
      "Total of  10 pages. Completed Page No : 10\n",
      "Total of  10 pages. Completed Page No : 11\n",
      "Project Management Exp : 10 plus, Time Taken:  671.5179309844971\n"
     ]
    },
    {
     "name": "stderr",
     "output_type": "stream",
     "text": [
      "C:\\Users\\Anand Kumar\\AppData\\Local\\Temp\\ipykernel_19832\\3858966282.py:10: DeprecationWarning: Selenium Tools for Microsoft Edge is deprecated. Please upgrade to Selenium 4 which has built-in support for Microsoft Edge (Chromium): https://docs.microsoft.com/en-us/microsoft-edge/webdriver-chromium/#upgrading-from-selenium-3\n",
      "  driver = Edge(executable_path=\"C:\\WebDriver\\msedgedriver.exe\", options=options)\n"
     ]
    },
    {
     "name": "stdout",
     "output_type": "stream",
     "text": [
      "Total of  10 pages. Completed Page No : 1\n",
      "Total of  10 pages. Completed Page No : 2\n",
      "Total of  10 pages. Completed Page No : 3\n",
      "Total of  10 pages. Completed Page No : 4\n",
      "Total of  10 pages. Completed Page No : 5\n",
      "Total of  10 pages. Completed Page No : 6\n",
      "Total of  10 pages. Completed Page No : 7\n",
      "Total of  10 pages. Completed Page No : 8\n",
      "Total of  10 pages. Completed Page No : 9\n",
      "Total of  10 pages. Completed Page No : 10\n",
      "Total of  10 pages. Completed Page No : 11\n",
      "Embedded Systems https://www.foundit.in/srp/results?query=Embedded%20Systems Exp : 0 to 5, Time Taken:  646.4712162017822\n"
     ]
    },
    {
     "name": "stderr",
     "output_type": "stream",
     "text": [
      "C:\\Users\\Anand Kumar\\AppData\\Local\\Temp\\ipykernel_19832\\3858966282.py:10: DeprecationWarning: Selenium Tools for Microsoft Edge is deprecated. Please upgrade to Selenium 4 which has built-in support for Microsoft Edge (Chromium): https://docs.microsoft.com/en-us/microsoft-edge/webdriver-chromium/#upgrading-from-selenium-3\n",
      "  driver = Edge(executable_path=\"C:\\WebDriver\\msedgedriver.exe\", options=options)\n"
     ]
    },
    {
     "name": "stdout",
     "output_type": "stream",
     "text": [
      "Total of  10 pages. Completed Page No : 1\n",
      "Total of  10 pages. Completed Page No : 2\n",
      "Total of  10 pages. Completed Page No : 3\n",
      "Total of  10 pages. Completed Page No : 4\n",
      "Total of  10 pages. Completed Page No : 5\n",
      "Total of  10 pages. Completed Page No : 6\n",
      "Total of  10 pages. Completed Page No : 7\n",
      "Total of  10 pages. Completed Page No : 8\n",
      "Total of  10 pages. Completed Page No : 9\n",
      "Total of  10 pages. Completed Page No : 10\n",
      "Total of  10 pages. Completed Page No : 11\n",
      "Embedded Systems Exp : 5 to 10, Time Taken:  2368.373466730118\n"
     ]
    },
    {
     "name": "stderr",
     "output_type": "stream",
     "text": [
      "C:\\Users\\Anand Kumar\\AppData\\Local\\Temp\\ipykernel_19832\\3858966282.py:10: DeprecationWarning: Selenium Tools for Microsoft Edge is deprecated. Please upgrade to Selenium 4 which has built-in support for Microsoft Edge (Chromium): https://docs.microsoft.com/en-us/microsoft-edge/webdriver-chromium/#upgrading-from-selenium-3\n",
      "  driver = Edge(executable_path=\"C:\\WebDriver\\msedgedriver.exe\", options=options)\n"
     ]
    },
    {
     "name": "stdout",
     "output_type": "stream",
     "text": [
      "Total of  10 pages. Completed Page No : 1\n",
      "Total of  10 pages. Completed Page No : 2\n",
      "Total of  10 pages. Completed Page No : 3\n",
      "Total of  10 pages. Completed Page No : 4\n",
      "Total of  10 pages. Completed Page No : 5\n",
      "Total of  10 pages. Completed Page No : 6\n",
      "Total of  10 pages. Completed Page No : 7\n",
      "Total of  10 pages. Completed Page No : 8\n",
      "Total of  10 pages. Completed Page No : 9\n",
      "Total of  10 pages. Completed Page No : 10\n",
      "Total of  10 pages. Completed Page No : 11\n",
      "Embedded Systems Exp : 10 plus, Time Taken:  658.7790899276733\n"
     ]
    },
    {
     "name": "stderr",
     "output_type": "stream",
     "text": [
      "C:\\Users\\Anand Kumar\\AppData\\Local\\Temp\\ipykernel_19832\\3858966282.py:10: DeprecationWarning: Selenium Tools for Microsoft Edge is deprecated. Please upgrade to Selenium 4 which has built-in support for Microsoft Edge (Chromium): https://docs.microsoft.com/en-us/microsoft-edge/webdriver-chromium/#upgrading-from-selenium-3\n",
      "  driver = Edge(executable_path=\"C:\\WebDriver\\msedgedriver.exe\", options=options)\n"
     ]
    },
    {
     "name": "stdout",
     "output_type": "stream",
     "text": [
      "Total of  10 pages. Completed Page No : 1\n",
      "Total of  10 pages. Completed Page No : 2\n",
      "Total of  10 pages. Completed Page No : 3\n",
      "Total of  10 pages. Completed Page No : 4\n",
      "Total of  10 pages. Completed Page No : 5\n",
      "Total of  10 pages. Completed Page No : 6\n",
      "Total of  10 pages. Completed Page No : 7\n",
      "Total of  10 pages. Completed Page No : 8\n",
      "Total of  10 pages. Completed Page No : 9\n",
      "Total of  10 pages. Completed Page No : 10\n",
      "Total of  10 pages. Completed Page No : 11\n",
      "IT Support https://www.foundit.in/srp/results?query=IT%20Support Exp : 0 to 5, Time Taken:  671.1671228408813\n"
     ]
    },
    {
     "name": "stderr",
     "output_type": "stream",
     "text": [
      "C:\\Users\\Anand Kumar\\AppData\\Local\\Temp\\ipykernel_19832\\3858966282.py:10: DeprecationWarning: Selenium Tools for Microsoft Edge is deprecated. Please upgrade to Selenium 4 which has built-in support for Microsoft Edge (Chromium): https://docs.microsoft.com/en-us/microsoft-edge/webdriver-chromium/#upgrading-from-selenium-3\n",
      "  driver = Edge(executable_path=\"C:\\WebDriver\\msedgedriver.exe\", options=options)\n"
     ]
    },
    {
     "name": "stdout",
     "output_type": "stream",
     "text": [
      "Total of  10 pages. Completed Page No : 1\n",
      "Total of  10 pages. Completed Page No : 2\n",
      "Total of  10 pages. Completed Page No : 3\n",
      "Total of  10 pages. Completed Page No : 4\n",
      "Total of  10 pages. Completed Page No : 5\n",
      "Total of  10 pages. Completed Page No : 6\n",
      "Total of  10 pages. Completed Page No : 7\n",
      "Total of  10 pages. Completed Page No : 8\n",
      "Total of  10 pages. Completed Page No : 9\n",
      "Total of  10 pages. Completed Page No : 10\n",
      "Total of  10 pages. Completed Page No : 11\n",
      "IT Support Exp : 5 to 10, Time Taken:  661.0764105319977\n"
     ]
    },
    {
     "name": "stderr",
     "output_type": "stream",
     "text": [
      "C:\\Users\\Anand Kumar\\AppData\\Local\\Temp\\ipykernel_19832\\3858966282.py:10: DeprecationWarning: Selenium Tools for Microsoft Edge is deprecated. Please upgrade to Selenium 4 which has built-in support for Microsoft Edge (Chromium): https://docs.microsoft.com/en-us/microsoft-edge/webdriver-chromium/#upgrading-from-selenium-3\n",
      "  driver = Edge(executable_path=\"C:\\WebDriver\\msedgedriver.exe\", options=options)\n"
     ]
    },
    {
     "name": "stdout",
     "output_type": "stream",
     "text": [
      "Total of  10 pages. Completed Page No : 1\n",
      "Total of  10 pages. Completed Page No : 2\n",
      "Total of  10 pages. Completed Page No : 3\n",
      "Total of  10 pages. Completed Page No : 4\n",
      "Total of  10 pages. Completed Page No : 5\n",
      "Total of  10 pages. Completed Page No : 6\n",
      "Last Page in Search Result\n",
      "IT Support Exp : 10 plus, Time Taken:  385.6466681957245\n"
     ]
    },
    {
     "name": "stderr",
     "output_type": "stream",
     "text": [
      "C:\\Users\\Anand Kumar\\AppData\\Local\\Temp\\ipykernel_19832\\3858966282.py:10: DeprecationWarning: Selenium Tools for Microsoft Edge is deprecated. Please upgrade to Selenium 4 which has built-in support for Microsoft Edge (Chromium): https://docs.microsoft.com/en-us/microsoft-edge/webdriver-chromium/#upgrading-from-selenium-3\n",
      "  driver = Edge(executable_path=\"C:\\WebDriver\\msedgedriver.exe\", options=options)\n"
     ]
    },
    {
     "name": "stdout",
     "output_type": "stream",
     "text": [
      "Total of  10 pages. Completed Page No : 1\n",
      "Total of  10 pages. Completed Page No : 2\n",
      "Total of  10 pages. Completed Page No : 3\n",
      "Total of  10 pages. Completed Page No : 4\n",
      "Total of  10 pages. Completed Page No : 5\n",
      "Total of  10 pages. Completed Page No : 6\n",
      "Total of  10 pages. Completed Page No : 7\n",
      "Total of  10 pages. Completed Page No : 8\n",
      "Total of  10 pages. Completed Page No : 9\n",
      "Total of  10 pages. Completed Page No : 10\n",
      "Total of  10 pages. Completed Page No : 11\n",
      "Information Security https://www.foundit.in/srp/results?query=Information%20Security Exp : 0 to 5, Time Taken:  658.0127301216125\n"
     ]
    },
    {
     "name": "stderr",
     "output_type": "stream",
     "text": [
      "C:\\Users\\Anand Kumar\\AppData\\Local\\Temp\\ipykernel_19832\\3858966282.py:10: DeprecationWarning: Selenium Tools for Microsoft Edge is deprecated. Please upgrade to Selenium 4 which has built-in support for Microsoft Edge (Chromium): https://docs.microsoft.com/en-us/microsoft-edge/webdriver-chromium/#upgrading-from-selenium-3\n",
      "  driver = Edge(executable_path=\"C:\\WebDriver\\msedgedriver.exe\", options=options)\n"
     ]
    },
    {
     "name": "stdout",
     "output_type": "stream",
     "text": [
      "Total of  10 pages. Completed Page No : 1\n",
      "Total of  10 pages. Completed Page No : 2\n",
      "Total of  10 pages. Completed Page No : 3\n",
      "Total of  10 pages. Completed Page No : 4\n",
      "Total of  10 pages. Completed Page No : 5\n",
      "Total of  10 pages. Completed Page No : 6\n",
      "Total of  10 pages. Completed Page No : 7\n",
      "Total of  10 pages. Completed Page No : 8\n",
      "Total of  10 pages. Completed Page No : 9\n",
      "Total of  10 pages. Completed Page No : 10\n",
      "Total of  10 pages. Completed Page No : 11\n",
      "Information Security Exp : 5 to 10, Time Taken:  671.8932054042816\n"
     ]
    },
    {
     "name": "stderr",
     "output_type": "stream",
     "text": [
      "C:\\Users\\Anand Kumar\\AppData\\Local\\Temp\\ipykernel_19832\\3858966282.py:10: DeprecationWarning: Selenium Tools for Microsoft Edge is deprecated. Please upgrade to Selenium 4 which has built-in support for Microsoft Edge (Chromium): https://docs.microsoft.com/en-us/microsoft-edge/webdriver-chromium/#upgrading-from-selenium-3\n",
      "  driver = Edge(executable_path=\"C:\\WebDriver\\msedgedriver.exe\", options=options)\n"
     ]
    },
    {
     "name": "stdout",
     "output_type": "stream",
     "text": [
      "Total of  10 pages. Completed Page No : 1\n",
      "Total of  10 pages. Completed Page No : 2\n",
      "Total of  10 pages. Completed Page No : 3\n",
      "Total of  10 pages. Completed Page No : 4\n",
      "Total of  10 pages. Completed Page No : 5\n",
      "Total of  10 pages. Completed Page No : 6\n",
      "Total of  10 pages. Completed Page No : 7\n",
      "Total of  10 pages. Completed Page No : 8\n",
      "Total of  10 pages. Completed Page No : 9\n",
      "Total of  10 pages. Completed Page No : 10\n",
      "Total of  10 pages. Completed Page No : 11\n",
      "Information Security Exp : 10 plus, Time Taken:  652.8418786525726\n"
     ]
    }
   ],
   "source": [
    "for i in range(0,10):\n",
    "     \n",
    "    jobs_list = []\n",
    "    start_time = time.time()\n",
    "    scrape_job_details(url_list[i],5) \n",
    "    end_time = time.time()\n",
    "    print(vert_list[i], url_list[i], \"Exp : 0 to 5, Time Taken: \", end_time - start_time)\n",
    "    jobs_dframe_exp_1_5 = pd.DataFrame(jobs_list)\n",
    "    file_name = vert_list[i].replace(\" \",\"\") + 'job_profile_exp1_5_foundit.xlsx'\n",
    "    jobs_dframe_exp_1_5.to_excel(file_name, index=False)\n",
    "    \n",
    "    time.sleep(30)\n",
    "    \n",
    "    jobs_list = []\n",
    "    start_time = time.time()\n",
    "    scrape_job_details(url_list[i],10) \n",
    "    end_time = time.time()\n",
    "    print(vert_list[i], \"Exp : 5 to 10, Time Taken: \", end_time - start_time)\n",
    "    jobs_dframe_exp_5_10 = pd.DataFrame(jobs_list)\n",
    "    file_name = vert_list[i].replace(\" \",\"\") + 'job_profile_exp6_10_foundit.xlsx'\n",
    "    jobs_dframe_exp_5_10.to_excel(file_name, index=False)\n",
    "\n",
    "    time.sleep(30)\n",
    "    \n",
    "    \n",
    "    jobs_list = []\n",
    "    start_time = time.time()\n",
    "    scrape_job_details(url_list[i],11) \n",
    "    end_time = time.time()\n",
    "    print(vert_list[i], \"Exp : 10 plus, Time Taken: \", end_time - start_time)\n",
    "    jobs_dframe_exp_10plus = pd.DataFrame(jobs_list) \n",
    "    file_name = vert_list[i].replace(\" \",\"\") + 'job_profile_exp_10plus_foundit.xlsx'   \n",
    "    jobs_dframe_exp_10plus.to_excel(file_name, index=False)\n",
    "    \n",
    "    time.sleep(30)\n",
    "    "
   ]
  }
 ],
 "metadata": {
  "kernelspec": {
   "display_name": "Python 3 (ipykernel)",
   "language": "python",
   "name": "python3"
  },
  "language_info": {
   "codemirror_mode": {
    "name": "ipython",
    "version": 3
   },
   "file_extension": ".py",
   "mimetype": "text/x-python",
   "name": "python",
   "nbconvert_exporter": "python",
   "pygments_lexer": "ipython3",
   "version": "3.9.13"
  }
 },
 "nbformat": 4,
 "nbformat_minor": 5
}
